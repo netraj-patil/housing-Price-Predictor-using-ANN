{
 "cells": [
  {
   "cell_type": "code",
   "execution_count": 1,
   "id": "a95a747c-5092-4e5d-866c-f104bab9905f",
   "metadata": {},
   "outputs": [
    {
     "name": "stderr",
     "output_type": "stream",
     "text": [
      "2024-03-24 11:03:38.939790: I tensorflow/core/util/port.cc:113] oneDNN custom operations are on. You may see slightly different numerical results due to floating-point round-off errors from different computation orders. To turn them off, set the environment variable `TF_ENABLE_ONEDNN_OPTS=0`.\n",
      "2024-03-24 11:03:45.316078: E external/local_xla/xla/stream_executor/cuda/cuda_dnn.cc:9261] Unable to register cuDNN factory: Attempting to register factory for plugin cuDNN when one has already been registered\n",
      "2024-03-24 11:03:45.322343: E external/local_xla/xla/stream_executor/cuda/cuda_fft.cc:607] Unable to register cuFFT factory: Attempting to register factory for plugin cuFFT when one has already been registered\n",
      "2024-03-24 11:03:46.310105: E external/local_xla/xla/stream_executor/cuda/cuda_blas.cc:1515] Unable to register cuBLAS factory: Attempting to register factory for plugin cuBLAS when one has already been registered\n",
      "2024-03-24 11:03:48.283251: I tensorflow/core/platform/cpu_feature_guard.cc:182] This TensorFlow binary is optimized to use available CPU instructions in performance-critical operations.\n",
      "To enable the following instructions: AVX2 AVX512F AVX512_VNNI FMA, in other operations, rebuild TensorFlow with the appropriate compiler flags.\n",
      "2024-03-24 11:04:14.547243: W tensorflow/compiler/tf2tensorrt/utils/py_utils.cc:38] TF-TRT Warning: Could not find TensorRT\n"
     ]
    }
   ],
   "source": [
    "import pandas as pd\n",
    "import numpy as np\n",
    "import tensorflow\n",
    "from tensorflow import keras"
   ]
  },
  {
   "cell_type": "code",
   "execution_count": 2,
   "id": "8bef2cc5-226c-4faf-82e7-68f3c633cd26",
   "metadata": {},
   "outputs": [],
   "source": [
    "from sklearn.model_selection import train_test_split\n",
    "from keras import Sequential\n",
    "from keras.layers import Dense, Input"
   ]
  },
  {
   "cell_type": "code",
   "execution_count": 3,
   "id": "7783f09b-7a02-4a3c-828f-44581d900900",
   "metadata": {},
   "outputs": [],
   "source": [
    "df = pd.read_csv(\"dataset/Mumbai.csv\")"
   ]
  },
  {
   "cell_type": "code",
   "execution_count": 4,
   "id": "387aefdf-7f34-4d14-a0fb-e271d2dc50e2",
   "metadata": {},
   "outputs": [
    {
     "data": {
      "text/html": [
       "<div>\n",
       "<style scoped>\n",
       "    .dataframe tbody tr th:only-of-type {\n",
       "        vertical-align: middle;\n",
       "    }\n",
       "\n",
       "    .dataframe tbody tr th {\n",
       "        vertical-align: top;\n",
       "    }\n",
       "\n",
       "    .dataframe thead th {\n",
       "        text-align: right;\n",
       "    }\n",
       "</style>\n",
       "<table border=\"1\" class=\"dataframe\">\n",
       "  <thead>\n",
       "    <tr style=\"text-align: right;\">\n",
       "      <th></th>\n",
       "      <th>Price</th>\n",
       "      <th>Area</th>\n",
       "      <th>Location</th>\n",
       "      <th>No. of Bedrooms</th>\n",
       "      <th>Resale</th>\n",
       "      <th>MaintenanceStaff</th>\n",
       "      <th>Gymnasium</th>\n",
       "      <th>SwimmingPool</th>\n",
       "      <th>LandscapedGardens</th>\n",
       "      <th>JoggingTrack</th>\n",
       "      <th>...</th>\n",
       "      <th>LiftAvailable</th>\n",
       "      <th>BED</th>\n",
       "      <th>VaastuCompliant</th>\n",
       "      <th>Microwave</th>\n",
       "      <th>GolfCourse</th>\n",
       "      <th>TV</th>\n",
       "      <th>DiningTable</th>\n",
       "      <th>Sofa</th>\n",
       "      <th>Wardrobe</th>\n",
       "      <th>Refrigerator</th>\n",
       "    </tr>\n",
       "  </thead>\n",
       "  <tbody>\n",
       "    <tr>\n",
       "      <th>0</th>\n",
       "      <td>4850000</td>\n",
       "      <td>720</td>\n",
       "      <td>Kharghar</td>\n",
       "      <td>1</td>\n",
       "      <td>1</td>\n",
       "      <td>1</td>\n",
       "      <td>0</td>\n",
       "      <td>0</td>\n",
       "      <td>0</td>\n",
       "      <td>0</td>\n",
       "      <td>...</td>\n",
       "      <td>1</td>\n",
       "      <td>0</td>\n",
       "      <td>1</td>\n",
       "      <td>0</td>\n",
       "      <td>0</td>\n",
       "      <td>0</td>\n",
       "      <td>0</td>\n",
       "      <td>0</td>\n",
       "      <td>0</td>\n",
       "      <td>0</td>\n",
       "    </tr>\n",
       "    <tr>\n",
       "      <th>1</th>\n",
       "      <td>4500000</td>\n",
       "      <td>600</td>\n",
       "      <td>Kharghar</td>\n",
       "      <td>1</td>\n",
       "      <td>1</td>\n",
       "      <td>1</td>\n",
       "      <td>1</td>\n",
       "      <td>1</td>\n",
       "      <td>0</td>\n",
       "      <td>1</td>\n",
       "      <td>...</td>\n",
       "      <td>1</td>\n",
       "      <td>0</td>\n",
       "      <td>1</td>\n",
       "      <td>0</td>\n",
       "      <td>0</td>\n",
       "      <td>0</td>\n",
       "      <td>0</td>\n",
       "      <td>0</td>\n",
       "      <td>0</td>\n",
       "      <td>0</td>\n",
       "    </tr>\n",
       "    <tr>\n",
       "      <th>2</th>\n",
       "      <td>6700000</td>\n",
       "      <td>650</td>\n",
       "      <td>Kharghar</td>\n",
       "      <td>1</td>\n",
       "      <td>1</td>\n",
       "      <td>1</td>\n",
       "      <td>1</td>\n",
       "      <td>1</td>\n",
       "      <td>0</td>\n",
       "      <td>1</td>\n",
       "      <td>...</td>\n",
       "      <td>1</td>\n",
       "      <td>0</td>\n",
       "      <td>1</td>\n",
       "      <td>0</td>\n",
       "      <td>0</td>\n",
       "      <td>0</td>\n",
       "      <td>0</td>\n",
       "      <td>0</td>\n",
       "      <td>0</td>\n",
       "      <td>0</td>\n",
       "    </tr>\n",
       "    <tr>\n",
       "      <th>3</th>\n",
       "      <td>4500000</td>\n",
       "      <td>650</td>\n",
       "      <td>Kharghar</td>\n",
       "      <td>1</td>\n",
       "      <td>1</td>\n",
       "      <td>1</td>\n",
       "      <td>0</td>\n",
       "      <td>0</td>\n",
       "      <td>1</td>\n",
       "      <td>0</td>\n",
       "      <td>...</td>\n",
       "      <td>1</td>\n",
       "      <td>1</td>\n",
       "      <td>1</td>\n",
       "      <td>0</td>\n",
       "      <td>0</td>\n",
       "      <td>0</td>\n",
       "      <td>0</td>\n",
       "      <td>0</td>\n",
       "      <td>1</td>\n",
       "      <td>0</td>\n",
       "    </tr>\n",
       "    <tr>\n",
       "      <th>4</th>\n",
       "      <td>5000000</td>\n",
       "      <td>665</td>\n",
       "      <td>Kharghar</td>\n",
       "      <td>1</td>\n",
       "      <td>1</td>\n",
       "      <td>1</td>\n",
       "      <td>0</td>\n",
       "      <td>0</td>\n",
       "      <td>1</td>\n",
       "      <td>0</td>\n",
       "      <td>...</td>\n",
       "      <td>1</td>\n",
       "      <td>0</td>\n",
       "      <td>1</td>\n",
       "      <td>0</td>\n",
       "      <td>0</td>\n",
       "      <td>0</td>\n",
       "      <td>0</td>\n",
       "      <td>0</td>\n",
       "      <td>0</td>\n",
       "      <td>0</td>\n",
       "    </tr>\n",
       "  </tbody>\n",
       "</table>\n",
       "<p>5 rows × 40 columns</p>\n",
       "</div>"
      ],
      "text/plain": [
       "     Price  Area  Location  No. of Bedrooms  Resale  MaintenanceStaff  \\\n",
       "0  4850000   720  Kharghar                1       1                 1   \n",
       "1  4500000   600  Kharghar                1       1                 1   \n",
       "2  6700000   650  Kharghar                1       1                 1   \n",
       "3  4500000   650  Kharghar                1       1                 1   \n",
       "4  5000000   665  Kharghar                1       1                 1   \n",
       "\n",
       "   Gymnasium  SwimmingPool  LandscapedGardens  JoggingTrack  ...  \\\n",
       "0          0             0                  0             0  ...   \n",
       "1          1             1                  0             1  ...   \n",
       "2          1             1                  0             1  ...   \n",
       "3          0             0                  1             0  ...   \n",
       "4          0             0                  1             0  ...   \n",
       "\n",
       "   LiftAvailable  BED  VaastuCompliant  Microwave  GolfCourse  TV  \\\n",
       "0              1    0                1          0           0   0   \n",
       "1              1    0                1          0           0   0   \n",
       "2              1    0                1          0           0   0   \n",
       "3              1    1                1          0           0   0   \n",
       "4              1    0                1          0           0   0   \n",
       "\n",
       "   DiningTable  Sofa  Wardrobe  Refrigerator  \n",
       "0            0     0         0             0  \n",
       "1            0     0         0             0  \n",
       "2            0     0         0             0  \n",
       "3            0     0         1             0  \n",
       "4            0     0         0             0  \n",
       "\n",
       "[5 rows x 40 columns]"
      ]
     },
     "execution_count": 4,
     "metadata": {},
     "output_type": "execute_result"
    }
   ],
   "source": [
    "df.head()"
   ]
  },
  {
   "cell_type": "code",
   "execution_count": 5,
   "id": "538f34a7-9297-44e6-aa62-95e788fcf866",
   "metadata": {},
   "outputs": [
    {
     "name": "stdout",
     "output_type": "stream",
     "text": [
      "<class 'pandas.core.frame.DataFrame'>\n",
      "RangeIndex: 7719 entries, 0 to 7718\n",
      "Data columns (total 40 columns):\n",
      " #   Column               Non-Null Count  Dtype \n",
      "---  ------               --------------  ----- \n",
      " 0   Price                7719 non-null   int64 \n",
      " 1   Area                 7719 non-null   int64 \n",
      " 2   Location             7719 non-null   object\n",
      " 3   No. of Bedrooms      7719 non-null   int64 \n",
      " 4   Resale               7719 non-null   int64 \n",
      " 5   MaintenanceStaff     7719 non-null   int64 \n",
      " 6   Gymnasium            7719 non-null   int64 \n",
      " 7   SwimmingPool         7719 non-null   int64 \n",
      " 8   LandscapedGardens    7719 non-null   int64 \n",
      " 9   JoggingTrack         7719 non-null   int64 \n",
      " 10  RainWaterHarvesting  7719 non-null   int64 \n",
      " 11  IndoorGames          7719 non-null   int64 \n",
      " 12  ShoppingMall         7719 non-null   int64 \n",
      " 13  Intercom             7719 non-null   int64 \n",
      " 14  SportsFacility       7719 non-null   int64 \n",
      " 15  ATM                  7719 non-null   int64 \n",
      " 16  ClubHouse            7719 non-null   int64 \n",
      " 17  School               7719 non-null   int64 \n",
      " 18  24X7Security         7719 non-null   int64 \n",
      " 19  PowerBackup          7719 non-null   int64 \n",
      " 20  CarParking           7719 non-null   int64 \n",
      " 21  StaffQuarter         7719 non-null   int64 \n",
      " 22  Cafeteria            7719 non-null   int64 \n",
      " 23  MultipurposeRoom     7719 non-null   int64 \n",
      " 24  Hospital             7719 non-null   int64 \n",
      " 25  WashingMachine       7719 non-null   int64 \n",
      " 26  Gasconnection        7719 non-null   int64 \n",
      " 27  AC                   7719 non-null   int64 \n",
      " 28  Wifi                 7719 non-null   int64 \n",
      " 29  Children'splayarea   7719 non-null   int64 \n",
      " 30  LiftAvailable        7719 non-null   int64 \n",
      " 31  BED                  7719 non-null   int64 \n",
      " 32  VaastuCompliant      7719 non-null   int64 \n",
      " 33  Microwave            7719 non-null   int64 \n",
      " 34  GolfCourse           7719 non-null   int64 \n",
      " 35  TV                   7719 non-null   int64 \n",
      " 36  DiningTable          7719 non-null   int64 \n",
      " 37  Sofa                 7719 non-null   int64 \n",
      " 38  Wardrobe             7719 non-null   int64 \n",
      " 39  Refrigerator         7719 non-null   int64 \n",
      "dtypes: int64(39), object(1)\n",
      "memory usage: 2.4+ MB\n"
     ]
    }
   ],
   "source": [
    "df.info()"
   ]
  },
  {
   "cell_type": "code",
   "execution_count": 6,
   "id": "9bf299bb-99e4-487a-b2bd-62d5f6e3bc6a",
   "metadata": {},
   "outputs": [],
   "source": [
    "df_encoded = pd.get_dummies(df, columns=['Location'],dtype=int)"
   ]
  },
  {
   "cell_type": "code",
   "execution_count": 7,
   "id": "92d498be-4793-4142-aa38-2f05d6c24a08",
   "metadata": {},
   "outputs": [
    {
     "name": "stdout",
     "output_type": "stream",
     "text": [
      "<class 'pandas.core.frame.DataFrame'>\n",
      "RangeIndex: 7719 entries, 0 to 7718\n",
      "Columns: 452 entries, Price to Location_worli sea face\n",
      "dtypes: int64(452)\n",
      "memory usage: 26.6 MB\n"
     ]
    }
   ],
   "source": [
    "df_encoded.info()"
   ]
  },
  {
   "cell_type": "code",
   "execution_count": 8,
   "id": "36378830-5aaa-4bec-a4cd-1f774c5955a3",
   "metadata": {},
   "outputs": [],
   "source": [
    "X = df_encoded.drop(\"Price\", axis=1)  # Replace \"target_column\" with your actual target column name\n",
    "y = df_encoded[\"Price\"]\n",
    "\n",
    "# Split the data into training and testing sets with a specific test size (e.g., 20%)\n",
    "X_train, X_test, y_train, y_test = train_test_split(X, y, test_size=0.2, random_state=42)"
   ]
  },
  {
   "cell_type": "code",
   "execution_count": null,
   "id": "4419bd43-153b-4a17-90e3-bab025b512f1",
   "metadata": {},
   "outputs": [],
   "source": []
  },
  {
   "cell_type": "code",
   "execution_count": 9,
   "id": "d511a9e1-e85a-43ac-9ff4-fd70acd06ce1",
   "metadata": {},
   "outputs": [
    {
     "name": "stderr",
     "output_type": "stream",
     "text": [
      "2024-03-24 11:04:57.879292: I external/local_xla/xla/stream_executor/cuda/cuda_executor.cc:887] could not open file to read NUMA node: /sys/bus/pci/devices/0000:01:00.0/numa_node\n",
      "Your kernel may have been built without NUMA support.\n",
      "2024-03-24 11:05:04.521920: I external/local_xla/xla/stream_executor/cuda/cuda_executor.cc:887] could not open file to read NUMA node: /sys/bus/pci/devices/0000:01:00.0/numa_node\n",
      "Your kernel may have been built without NUMA support.\n",
      "2024-03-24 11:05:04.521963: I external/local_xla/xla/stream_executor/cuda/cuda_executor.cc:887] could not open file to read NUMA node: /sys/bus/pci/devices/0000:01:00.0/numa_node\n",
      "Your kernel may have been built without NUMA support.\n",
      "2024-03-24 11:05:04.524580: I external/local_xla/xla/stream_executor/cuda/cuda_executor.cc:887] could not open file to read NUMA node: /sys/bus/pci/devices/0000:01:00.0/numa_node\n",
      "Your kernel may have been built without NUMA support.\n",
      "2024-03-24 11:05:04.524616: I external/local_xla/xla/stream_executor/cuda/cuda_executor.cc:887] could not open file to read NUMA node: /sys/bus/pci/devices/0000:01:00.0/numa_node\n",
      "Your kernel may have been built without NUMA support.\n",
      "2024-03-24 11:05:04.524632: I external/local_xla/xla/stream_executor/cuda/cuda_executor.cc:887] could not open file to read NUMA node: /sys/bus/pci/devices/0000:01:00.0/numa_node\n",
      "Your kernel may have been built without NUMA support.\n",
      "2024-03-24 11:05:04.823509: I external/local_xla/xla/stream_executor/cuda/cuda_executor.cc:887] could not open file to read NUMA node: /sys/bus/pci/devices/0000:01:00.0/numa_node\n",
      "Your kernel may have been built without NUMA support.\n",
      "2024-03-24 11:05:04.823558: I external/local_xla/xla/stream_executor/cuda/cuda_executor.cc:887] could not open file to read NUMA node: /sys/bus/pci/devices/0000:01:00.0/numa_node\n",
      "Your kernel may have been built without NUMA support.\n",
      "2024-03-24 11:05:04.823564: I tensorflow/core/common_runtime/gpu/gpu_device.cc:2022] Could not identify NUMA node of platform GPU id 0, defaulting to 0.  Your kernel may not have been built with NUMA support.\n",
      "2024-03-24 11:05:04.823591: I external/local_xla/xla/stream_executor/cuda/cuda_executor.cc:887] could not open file to read NUMA node: /sys/bus/pci/devices/0000:01:00.0/numa_node\n",
      "Your kernel may have been built without NUMA support.\n",
      "2024-03-24 11:05:04.823607: I tensorflow/core/common_runtime/gpu/gpu_device.cc:1929] Created device /job:localhost/replica:0/task:0/device:GPU:0 with 2262 MB memory:  -> device: 0, name: NVIDIA GeForce GTX 1650 with Max-Q Design, pci bus id: 0000:01:00.0, compute capability: 7.5\n"
     ]
    }
   ],
   "source": [
    "model=Sequential()\n",
    "model.add(Input(shape=(451,)))\n",
    "model.add(Dense(128,activation='linear'))\n",
    "model.add(Dense(64,activation='linear'))\n",
    "model.add(Dense(64,activation='linear'))\n",
    "model.add(Dense(32,activation='linear'))\n",
    "model.add(Dense(16,activation='linear'))\n",
    "model.add(Dense(1,activation='linear'))"
   ]
  },
  {
   "cell_type": "code",
   "execution_count": 10,
   "id": "d18f0775-3e7d-4adf-b75b-f1996f1c8885",
   "metadata": {},
   "outputs": [],
   "source": [
    "model.compile(optimizer='adam', loss='mean_squared_error', metrics=['mae'])  # MAE - Mean Absolute Error (optional metric)"
   ]
  },
  {
   "cell_type": "code",
   "execution_count": 11,
   "id": "558d6dc6-a352-429a-a626-026abc5c1148",
   "metadata": {},
   "outputs": [
    {
     "name": "stdout",
     "output_type": "stream",
     "text": [
      "Epoch 1/25\n"
     ]
    },
    {
     "name": "stderr",
     "output_type": "stream",
     "text": [
      "2024-03-24 11:05:11.900165: I external/local_tsl/tsl/platform/default/subprocess.cc:304] Start cannot spawn child process: No such file or directory\n",
      "2024-03-24 11:05:13.707586: I external/local_xla/xla/service/service.cc:168] XLA service 0x7f9b60c28040 initialized for platform CUDA (this does not guarantee that XLA will be used). Devices:\n",
      "2024-03-24 11:05:13.707625: I external/local_xla/xla/service/service.cc:176]   StreamExecutor device (0): NVIDIA GeForce GTX 1650 with Max-Q Design, Compute Capability 7.5\n",
      "2024-03-24 11:05:14.270102: I tensorflow/compiler/mlir/tensorflow/utils/dump_mlir_util.cc:269] disabling MLIR crash reproducer, set env var `MLIR_CRASH_REPRODUCER_DIRECTORY` to enable.\n",
      "2024-03-24 11:05:14.775917: I external/local_xla/xla/stream_executor/cuda/cuda_dnn.cc:454] Loaded cuDNN version 8904\n",
      "WARNING: All log messages before absl::InitializeLog() is called are written to STDERR\n",
      "I0000 00:00:1711258515.361972    3791 device_compiler.h:186] Compiled cluster using XLA!  This line is logged at most once for the lifetime of the process.\n"
     ]
    },
    {
     "name": "stdout",
     "output_type": "stream",
     "text": [
      "772/772 [==============================] - 15s 4ms/step - loss: 398721778974720.0000 - mae: 10349805.0000 - val_loss: 447083312054272.0000 - val_mae: 10580028.0000\n",
      "Epoch 2/25\n",
      "772/772 [==============================] - 3s 4ms/step - loss: 370603567611904.0000 - mae: 9932265.0000 - val_loss: 453060161699840.0000 - val_mae: 10000710.0000\n",
      "Epoch 3/25\n",
      "772/772 [==============================] - 3s 4ms/step - loss: 372924628336640.0000 - mae: 9871332.0000 - val_loss: 447321649184768.0000 - val_mae: 10489462.0000\n",
      "Epoch 4/25\n",
      "772/772 [==============================] - 3s 4ms/step - loss: 372951572545536.0000 - mae: 9865821.0000 - val_loss: 447281987846144.0000 - val_mae: 10462887.0000\n",
      "Epoch 5/25\n",
      "772/772 [==============================] - 3s 4ms/step - loss: 370982665584640.0000 - mae: 9875766.0000 - val_loss: 447253634351104.0000 - val_mae: 10485477.0000\n",
      "Epoch 6/25\n",
      "772/772 [==============================] - 3s 4ms/step - loss: 372022483877888.0000 - mae: 9887420.0000 - val_loss: 447981698416640.0000 - val_mae: 10345353.0000\n",
      "Epoch 7/25\n",
      "772/772 [==============================] - 3s 4ms/step - loss: 370063710355456.0000 - mae: 9901878.0000 - val_loss: 448119271587840.0000 - val_mae: 10937115.0000\n",
      "Epoch 8/25\n",
      "772/772 [==============================] - 3s 4ms/step - loss: 373509716967424.0000 - mae: 9843398.0000 - val_loss: 448074946183168.0000 - val_mae: 10993454.0000\n",
      "Epoch 9/25\n",
      "772/772 [==============================] - 3s 4ms/step - loss: 372404266205184.0000 - mae: 9902029.0000 - val_loss: 451671612194816.0000 - val_mae: 10035671.0000\n",
      "Epoch 10/25\n",
      "772/772 [==============================] - 3s 4ms/step - loss: 372766620516352.0000 - mae: 9875123.0000 - val_loss: 449567011110912.0000 - val_mae: 10158038.0000\n",
      "Epoch 11/25\n",
      "772/772 [==============================] - 3s 4ms/step - loss: 372539222130688.0000 - mae: 9820532.0000 - val_loss: 449423163260928.0000 - val_mae: 10150084.0000\n",
      "Epoch 12/25\n",
      "772/772 [==============================] - 4s 5ms/step - loss: 371328209125376.0000 - mae: 9860452.0000 - val_loss: 454491795095552.0000 - val_mae: 9898449.0000\n",
      "Epoch 13/25\n",
      "772/772 [==============================] - 4s 5ms/step - loss: 373986995208192.0000 - mae: 9845060.0000 - val_loss: 446335014666240.0000 - val_mae: 10719883.0000\n",
      "Epoch 14/25\n",
      "772/772 [==============================] - 4s 5ms/step - loss: 372926574493696.0000 - mae: 9898634.0000 - val_loss: 448196715216896.0000 - val_mae: 10220136.0000\n",
      "Epoch 15/25\n",
      "772/772 [==============================] - 4s 5ms/step - loss: 371699757350912.0000 - mae: 9806284.0000 - val_loss: 446203313520640.0000 - val_mae: 10585122.0000\n",
      "Epoch 16/25\n",
      "772/772 [==============================] - 4s 5ms/step - loss: 371423268831232.0000 - mae: 9859804.0000 - val_loss: 446339007643648.0000 - val_mae: 10542042.0000\n",
      "Epoch 17/25\n",
      "772/772 [==============================] - 4s 5ms/step - loss: 372544087523328.0000 - mae: 9875851.0000 - val_loss: 449769277227008.0000 - val_mae: 10089960.0000\n",
      "Epoch 18/25\n",
      "772/772 [==============================] - 4s 5ms/step - loss: 371626508025856.0000 - mae: 9760643.0000 - val_loss: 446683779432448.0000 - val_mae: 10880574.0000\n",
      "Epoch 19/25\n",
      "772/772 [==============================] - 4s 5ms/step - loss: 372217133137920.0000 - mae: 9875367.0000 - val_loss: 446870912499712.0000 - val_mae: 10889152.0000\n",
      "Epoch 20/25\n",
      "772/772 [==============================] - 4s 5ms/step - loss: 371198722572288.0000 - mae: 9856092.0000 - val_loss: 448426261086208.0000 - val_mae: 11150026.0000\n",
      "Epoch 21/25\n",
      "772/772 [==============================] - 4s 5ms/step - loss: 370763521589248.0000 - mae: 9852214.0000 - val_loss: 448763986444288.0000 - val_mae: 10116570.0000\n",
      "Epoch 22/25\n",
      "772/772 [==============================] - 4s 5ms/step - loss: 372131703554048.0000 - mae: 9813936.0000 - val_loss: 445842167169024.0000 - val_mae: 10485433.0000\n",
      "Epoch 23/25\n",
      "772/772 [==============================] - 4s 5ms/step - loss: 371280763158528.0000 - mae: 9812783.0000 - val_loss: 447811007021056.0000 - val_mae: 10180699.0000\n",
      "Epoch 24/25\n",
      "772/772 [==============================] - 4s 5ms/step - loss: 370606352629760.0000 - mae: 9850848.0000 - val_loss: 447603338641408.0000 - val_mae: 10180625.0000\n",
      "Epoch 25/25\n",
      "772/772 [==============================] - 4s 5ms/step - loss: 371437126811648.0000 - mae: 9831479.0000 - val_loss: 447144951545856.0000 - val_mae: 10220886.0000\n"
     ]
    }
   ],
   "source": [
    "history = model.fit(X_train,y_train,batch_size=8,epochs=25,validation_data=(X_test,y_test))"
   ]
  },
  {
   "cell_type": "code",
   "execution_count": 12,
   "id": "1283594b-cc94-480e-909d-82d9e0b7b7c5",
   "metadata": {},
   "outputs": [],
   "source": [
    "# Access training loss\n",
    "train_loss = history.history['loss']\n",
    "\n",
    "# Access validation loss (if validation data was used)\n",
    "val_loss = history.history['val_loss']"
   ]
  },
  {
   "cell_type": "code",
   "execution_count": 13,
   "id": "7d4acb7f-cabc-430e-a582-77544b0f4572",
   "metadata": {},
   "outputs": [
    {
     "data": {
      "text/plain": [
       "[398721778974720.0,\n",
       " 370603567611904.0,\n",
       " 372924628336640.0,\n",
       " 372951572545536.0,\n",
       " 370982665584640.0,\n",
       " 372022483877888.0,\n",
       " 370063710355456.0,\n",
       " 373509716967424.0,\n",
       " 372404266205184.0,\n",
       " 372766620516352.0,\n",
       " 372539222130688.0,\n",
       " 371328209125376.0,\n",
       " 373986995208192.0,\n",
       " 372926574493696.0,\n",
       " 371699757350912.0,\n",
       " 371423268831232.0,\n",
       " 372544087523328.0,\n",
       " 371626508025856.0,\n",
       " 372217133137920.0,\n",
       " 371198722572288.0,\n",
       " 370763521589248.0,\n",
       " 372131703554048.0,\n",
       " 371280763158528.0,\n",
       " 370606352629760.0,\n",
       " 371437126811648.0]"
      ]
     },
     "execution_count": 13,
     "metadata": {},
     "output_type": "execute_result"
    }
   ],
   "source": [
    "train_loss"
   ]
  },
  {
   "cell_type": "code",
   "execution_count": 15,
   "id": "48eb7257-bf20-4e9b-bb6d-255c65495b6e",
   "metadata": {},
   "outputs": [
    {
     "data": {
      "text/plain": [
       "[447083312054272.0,\n",
       " 453060161699840.0,\n",
       " 447321649184768.0,\n",
       " 447281987846144.0,\n",
       " 447253634351104.0,\n",
       " 447981698416640.0,\n",
       " 448119271587840.0,\n",
       " 448074946183168.0,\n",
       " 451671612194816.0,\n",
       " 449567011110912.0,\n",
       " 449423163260928.0,\n",
       " 454491795095552.0,\n",
       " 446335014666240.0,\n",
       " 448196715216896.0,\n",
       " 446203313520640.0,\n",
       " 446339007643648.0,\n",
       " 449769277227008.0,\n",
       " 446683779432448.0,\n",
       " 446870912499712.0,\n",
       " 448426261086208.0,\n",
       " 448763986444288.0,\n",
       " 445842167169024.0,\n",
       " 447811007021056.0,\n",
       " 447603338641408.0,\n",
       " 447144951545856.0]"
      ]
     },
     "execution_count": 15,
     "metadata": {},
     "output_type": "execute_result"
    }
   ],
   "source": [
    "val_loss"
   ]
  },
  {
   "cell_type": "code",
   "execution_count": null,
   "id": "7de23ad6-6e13-4831-9759-16d6b97da83d",
   "metadata": {},
   "outputs": [],
   "source": []
  }
 ],
 "metadata": {
  "kernelspec": {
   "display_name": "venv",
   "language": "python",
   "name": "venv"
  },
  "language_info": {
   "codemirror_mode": {
    "name": "ipython",
    "version": 3
   },
   "file_extension": ".py",
   "mimetype": "text/x-python",
   "name": "python",
   "nbconvert_exporter": "python",
   "pygments_lexer": "ipython3",
   "version": "3.10.12"
  }
 },
 "nbformat": 4,
 "nbformat_minor": 5
}
